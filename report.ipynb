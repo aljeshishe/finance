{
 "cells": [
  {
   "cell_type": "code",
   "execution_count": 1,
   "metadata": {},
   "outputs": [
    {
     "data": {
      "application/javascript": [
       "IPython.OutputArea.auto_scroll_threshold = 9999;\n"
      ],
      "text/plain": [
       "<IPython.core.display.Javascript object>"
      ]
     },
     "metadata": {},
     "output_type": "display_data"
    }
   ],
   "source": [
    "%%javascript\n",
    "IPython.OutputArea.auto_scroll_threshold = 9999;"
   ]
  },
  {
   "cell_type": "code",
   "execution_count": 2,
   "metadata": {
    "pycharm": {
     "is_executing": false
    }
   },
   "outputs": [
    {
     "data": {
      "text/html": [
       "<style>.container { width:100% !important; }</style>"
      ],
      "text/plain": [
       "<IPython.core.display.HTML object>"
      ]
     },
     "metadata": {},
     "output_type": "display_data"
    }
   ],
   "source": [
    "from IPython.core.display import display, HTML\n",
    "display(HTML(\"<style>.container { width:100% !important; }</style>\"))\n"
   ]
  },
  {
   "cell_type": "code",
   "execution_count": 3,
   "metadata": {
    "pycharm": {
     "is_executing": false
    }
   },
   "outputs": [],
   "source": [
    "from pyspark.sql.dataframe import DataFrame\n",
    "DataFrame.old_show = getattr(DataFrame, 'old_show', DataFrame.show)\n",
    "def show(self, n=20, truncate=20, vertical=False):\n",
    "    self.persist()\n",
    "    print(self.count())\n",
    "    self.old_show(n, truncate=truncate, vertical=vertical)\n",
    "    return self\n",
    "\n",
    "DataFrame.show = show\n",
    "\n",
    "import random\n",
    "def sql(self, q):\n",
    "    name = 'table_{}'.format(random.randint(0000, 9999))\n",
    "    self.createOrReplaceTempView(name)\n",
    "    q = q.format(T=name)\n",
    "    print(q)\n",
    "    return df.sql_ctx.sql(q)\n",
    "DataFrame.sql = sql\n"
   ]
  },
  {
   "cell_type": "code",
   "execution_count": 4,
   "metadata": {
    "pycharm": {
     "is_executing": false,
     "name": "#%%\n"
    }
   },
   "outputs": [],
   "source": [
    "from pyspark.sql import SparkSession\n",
    "from pyspark.sql.types import IntegerType, FloatType, StringType, BooleanType\n",
    "from pyspark.sql import functions as F\n",
    "spark = SparkSession.builder.getOrCreate()\n",
    "\n",
    "\n",
    "df = spark.read.json('./jsons/data_200411_194800.json')\n"
   ]
  },
  {
   "cell_type": "code",
   "execution_count": 18,
   "metadata": {},
   "outputs": [
    {
     "name": "stdout",
     "output_type": "stream",
     "text": [
      "processing jsons/data_200411_194800_.json\n",
      "1173 records read from json\n",
      "processing jsons/data_200411_194800.json\n",
      "1173 records read from json\n"
     ]
    }
   ],
   "source": [
    "import glob \n",
    "import os\n",
    "from pathlib import Path\n",
    "\n",
    "df = None\n",
    "for file_name in list(glob.glob('jsons/*.json')):\n",
    "    print(f'processing {file_name}')\n",
    "    if os.path.getsize(file_name) == 0:\n",
    "        print('File is empty, skipping')\n",
    "        continue\n",
    "    _df = spark.read.json('./jsons/data_200411_194800.json')\n",
    "    print(f'{_df.count()} records read from json')\n",
    "    data = df if not data else data.union(df)\n"
   ]
  },
  {
   "cell_type": "code",
   "execution_count": 20,
   "metadata": {},
   "outputs": [
    {
     "name": "stdout",
     "output_type": "stream",
     "text": [
      "2346\n",
      "+--------------------+----------+---------------+-------+--------------------+----------+---------+-----------+------+\n",
      "|        crawl_datetm|est_return|           eval|pattern|        pattern_type|recmd_long|recmd_mid|recmd_short|ticker|\n",
      "+--------------------+----------+---------------+-------+--------------------+----------+---------+-----------+------+\n",
      "|2020-04-11 19:47:...|        -9|Near Fair Value|Bullish|            Momentum|      sell|     sell|        buy|   AAN|\n",
      "|2020-04-11 19:47:...|        33|    Undervalued|Bullish|Commodity Channel...|      sell|     sell|        buy|   ABG|\n",
      "|2020-04-11 19:47:...|        -2|Near Fair Value|Bullish|Commodity Channel...|       buy|     sell|        buy|  AAPL|\n",
      "|2020-04-11 19:47:...|        71|    Undervalued|Bullish|Price Crosses Mov...|      sell|      buy|        buy|  ABMD|\n",
      "|2020-04-11 19:47:...|        14|    Undervalued|Bullish|Commodity Channel...|       buy|     sell|        buy|  ABBV|\n",
      "|2020-04-11 19:47:...|      null|     Overvalued|Bullish|Commodity Channel...|      sell|     hold|        buy|    AA|\n",
      "|2020-04-11 19:47:...|        11|Near Fair Value|Bearish|            Momentum|       buy|     sell|       sell|  ADBE|\n",
      "|2020-04-11 19:47:...|         9|    Undervalued|Bullish|Commodity Channel...|      sell|      buy|        buy|   AFL|\n",
      "|2020-04-11 19:47:...|        32|    Undervalued|Bullish|         Williams %R|      sell|     sell|        buy|  ALGT|\n",
      "|2020-04-11 19:47:...|      null|     Overvalued|Bullish|Commodity Channel...|      sell|     sell|        buy|  AIMT|\n",
      "|2020-04-11 19:47:...|        14|Near Fair Value|Bullish|            Momentum|      hold|     sell|        buy|  ALRM|\n",
      "|2020-04-11 19:47:...|        18|    Undervalued|Bearish|            Momentum|      sell|     sell|        buy|   AIR|\n",
      "|2020-04-11 19:47:...|      null|     Overvalued|Bullish|Commodity Channel...|      hold|     sell|        buy|   AGN|\n",
      "|2020-04-11 19:47:...|       -15|     Overvalued|Bearish|Double Moving Ave...|      sell|     sell|        buy|  AJRD|\n",
      "|2020-04-11 19:47:...|       -16|     Overvalued|Bullish|Price Crosses Mov...|      sell|     sell|        buy|  ADUS|\n",
      "|2020-04-11 19:47:...|        -4|Near Fair Value|Bullish|Price Crosses Mov...|       buy|      buy|        buy|  AMGN|\n",
      "|2020-04-11 19:47:...|        20|Near Fair Value|Bullish|Commodity Channel...|      sell|     sell|        buy|  ALGN|\n",
      "|2020-04-11 19:47:...|        -1|Near Fair Value|Bearish|            Momentum|      sell|      buy|        buy|   AIG|\n",
      "|2020-04-11 19:47:...|      null|     Overvalued|Bullish|       Double Bottom|      sell|      buy|        buy|  ALLK|\n",
      "|2020-04-11 19:47:...|      null|     Overvalued|Bullish|Price Crosses Mov...|       buy|     sell|        buy|  ALNY|\n",
      "+--------------------+----------+---------------+-------+--------------------+----------+---------+-----------+------+\n",
      "only showing top 20 rows\n",
      "\n"
     ]
    },
    {
     "data": {
      "text/plain": [
       "DataFrame[crawl_datetm: string, est_return: bigint, eval: string, pattern: string, pattern_type: string, recmd_long: string, recmd_mid: string, recmd_short: string, ticker: string]"
      ]
     },
     "execution_count": 20,
     "metadata": {},
     "output_type": "execute_result"
    }
   ],
   "source": [
    "data.show()"
   ]
  },
  {
   "cell_type": "code",
   "execution_count": 21,
   "metadata": {},
   "outputs": [
    {
     "name": "stdout",
     "output_type": "stream",
     "text": [
      "1\n",
      "+--------------------+-----+\n",
      "|        crawl_datetm|count|\n",
      "+--------------------+-----+\n",
      "|2020-04-11 19:47:...| 1173|\n",
      "+--------------------+-----+\n",
      "\n",
      "153\n",
      "+----------+-----+\n",
      "|est_return|count|\n",
      "+----------+-----+\n",
      "|      null|  192|\n",
      "|        -6|   25|\n",
      "|         0|   18|\n",
      "|         7|   18|\n",
      "|        -7|   18|\n",
      "+----------+-----+\n",
      "only showing top 5 rows\n",
      "\n",
      "3\n",
      "+---------------+-----+\n",
      "|           eval|count|\n",
      "+---------------+-----+\n",
      "|     Overvalued|  572|\n",
      "|    Undervalued|  323|\n",
      "|Near Fair Value|  278|\n",
      "+---------------+-----+\n",
      "\n",
      "3\n",
      "+-------+-----+\n",
      "|pattern|count|\n",
      "+-------+-----+\n",
      "|Bullish|  859|\n",
      "|Bearish|  228|\n",
      "|Neutral|   86|\n",
      "+-------+-----+\n",
      "\n",
      "29\n",
      "+--------------------+-----+\n",
      "|        pattern_type|count|\n",
      "+--------------------+-----+\n",
      "|Commodity Channel...|  497|\n",
      "|Price Crosses Mov...|  231|\n",
      "|            Momentum|  137|\n",
      "|              Gap Up|   57|\n",
      "|Triple Moving Ave...|   29|\n",
      "+--------------------+-----+\n",
      "only showing top 5 rows\n",
      "\n",
      "3\n",
      "+----------+-----+\n",
      "|recmd_long|count|\n",
      "+----------+-----+\n",
      "|      sell|  931|\n",
      "|       buy|  206|\n",
      "|      hold|   36|\n",
      "+----------+-----+\n",
      "\n",
      "3\n",
      "+---------+-----+\n",
      "|recmd_mid|count|\n",
      "+---------+-----+\n",
      "|     sell|  852|\n",
      "|      buy|  256|\n",
      "|     hold|   65|\n",
      "+---------+-----+\n",
      "\n",
      "3\n",
      "+-----------+-----+\n",
      "|recmd_short|count|\n",
      "+-----------+-----+\n",
      "|        buy| 1070|\n",
      "|       sell|   81|\n",
      "|       hold|   22|\n",
      "+-----------+-----+\n",
      "\n",
      "1173\n",
      "+------+-----+\n",
      "|ticker|count|\n",
      "+------+-----+\n",
      "|  ALXN|    1|\n",
      "|  BAND|    1|\n",
      "|   CCK|    1|\n",
      "|  CARS|    1|\n",
      "|   CRS|    1|\n",
      "+------+-----+\n",
      "only showing top 5 rows\n",
      "\n"
     ]
    }
   ],
   "source": [
    "for col in df.columns:\n",
    "    df.groupby(col).count().sort('count', ascending=False).show(5)"
   ]
  },
  {
   "cell_type": "code",
   "execution_count": null,
   "metadata": {},
   "outputs": [],
   "source": []
  },
  {
   "cell_type": "code",
   "execution_count": null,
   "metadata": {},
   "outputs": [],
   "source": []
  }
 ],
 "metadata": {
  "kernelspec": {
   "display_name": "Python 3",
   "language": "python",
   "name": "python3"
  },
  "language_info": {
   "codemirror_mode": {
    "name": "ipython",
    "version": 3
   },
   "file_extension": ".py",
   "mimetype": "text/x-python",
   "name": "python",
   "nbconvert_exporter": "python",
   "pygments_lexer": "ipython3",
   "version": "3.7.6"
  },
  "pycharm": {
   "stem_cell": {
    "cell_type": "raw",
    "metadata": {
     "collapsed": false
    },
    "source": []
   }
  }
 },
 "nbformat": 4,
 "nbformat_minor": 4
}
